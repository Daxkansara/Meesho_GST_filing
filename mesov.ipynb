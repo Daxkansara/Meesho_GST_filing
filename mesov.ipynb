{
  "nbformat": 4,
  "nbformat_minor": 0,
  "metadata": {
    "colab": {
      "provenance": [],
      "include_colab_link": true
    },
    "kernelspec": {
      "name": "python3",
      "display_name": "Python 3"
    },
    "language_info": {
      "name": "python"
    }
  },
  "cells": [
    {
      "cell_type": "markdown",
      "metadata": {
        "id": "view-in-github",
        "colab_type": "text"
      },
      "source": [
        "<a href=\"https://colab.research.google.com/github/Daxkansara/Meesho_GST_filing/blob/main/mesov.ipynb\" target=\"_parent\"><img src=\"https://colab.research.google.com/assets/colab-badge.svg\" alt=\"Open In Colab\"/></a>"
      ]
    },
    {
      "cell_type": "markdown",
      "source": [
        "# New section"
      ],
      "metadata": {
        "id": "FNF2EVahtu6u"
      }
    },
    {
      "cell_type": "code",
      "execution_count": 237,
      "metadata": {
        "id": "E8Ap26Er8AfJ"
      },
      "outputs": [],
      "source": [
        "import pandas as pd\n",
        "import numpy as np"
      ]
    },
    {
      "cell_type": "code",
      "source": [
        "re = pd.read_csv('Reverse.csv')"
      ],
      "metadata": {
        "id": "TnsGpoJHCic0"
      },
      "execution_count": 238,
      "outputs": []
    },
    {
      "cell_type": "code",
      "source": [
        "fp = pd.read_csv('ForwardReports.csv')\n"
      ],
      "metadata": {
        "id": "VcNUFHZmC8EG"
      },
      "execution_count": 239,
      "outputs": []
    },
    {
      "cell_type": "code",
      "source": [
        "# Replace values in column 1 with desired values\n",
        "re['order_status'] = re['order_status'].replace({'rto': 'negative', 'Cancelled': 'negative', 'Return': 'negative', 'Shipped': 'negative', 'Delivered': 'negative'})\n",
        "\n",
        "# Set values in column 2 based on values in column 1\n",
        "re['quantity'] = np.where(re['order_status'] == 'negative', -1 * re['quantity'], re['quantity'])\n",
        "re['quantity'] = np.where(re['order_status'] == 'positive', 1 * re['quantity'], re['quantity'])\n",
        "\n",
        "# Set values in column 3 based on values in column 2\n",
        "re['gst_amount'] = np.where(re['quantity'] < 0, -1 * re['gst_amount'], re['gst_amount'])\n",
        "re['gst_amount'] = np.where(re['quantity'] > 0, 1 * re['gst_amount'], re['gst_amount'])\n",
        "\n",
        "# Set values in column 3 based on values in column 2\n",
        "re['tcs_taxable_amount'] = np.where(re['quantity'] < 0, -1 * re['tcs_taxable_amount'], re['tcs_taxable_amount'])\n",
        "re['tcs_taxable_amount'] = np.where(re['quantity'] > 0, 1 * re['tcs_taxable_amount'], re['tcs_taxable_amount'])\n"
      ],
      "metadata": {
        "id": "gjQtP1uITlaH"
      },
      "execution_count": 240,
      "outputs": []
    },
    {
      "cell_type": "code",
      "source": [
        " #Select the common columns between the dataframes\n",
        "common_cols = list(set(re.columns).intersection(fp.columns))\n",
        "\n",
        "# Concatenate the dataframes along the rows with the common columns\n",
        "df2 = pd.concat([re[common_cols], fp[common_cols]], axis=0, join='inner')\n",
        "\n",
        "# Save the concatenated dataframe to a new CSV file\n",
        "#df2.to_csv('combined.csv', index=False)"
      ],
      "metadata": {
        "id": "T-tm2tgflcK7"
      },
      "execution_count": 241,
      "outputs": []
    },
    {
      "cell_type": "code",
      "source": [
        "\n",
        "# Save the modified dataframe to a new CSV file\n",
        "re.to_csv('modifieddata.csv', index=False)"
      ],
      "metadata": {
        "id": "HDSPNPhtyx6O"
      },
      "execution_count": 242,
      "outputs": []
    },
    {
      "cell_type": "code",
      "source": [
        "# Group the data by country and column name, and calculate the sum\n",
        "df_sum = df2.groupby(['end_customer_state', 'end_customer_state']).sum()\n",
        "\n",
        "# Pivot the result into a more readable format\n",
        "df_pivot = df_sum.unstack()\n",
        "df2.to_csv('gsl1.csv', index=False)"
      ],
      "metadata": {
        "id": "LxTFF_eD38w8",
        "colab": {
          "base_uri": "https://localhost:8080/"
        },
        "outputId": "ae7313b8-cbad-4d45-bd7b-30664a5e5bbf"
      },
      "execution_count": 243,
      "outputs": [
        {
          "output_type": "stream",
          "name": "stderr",
          "text": [
            "<ipython-input-243-0a1df59d5514>:2: FutureWarning: The default value of numeric_only in DataFrameGroupBy.sum is deprecated. In a future version, numeric_only will default to False. Either specify numeric_only or select only columns which should be valid for the function.\n",
            "  df_sum = df2.groupby(['end_customer_state', 'end_customer_state']).sum()\n"
          ]
        }
      ]
    },
    {
      "cell_type": "code",
      "source": [
        "# Loop through all columns and change the keywords to proper case\n",
        "for col in df2.columns:\n",
        "    if df2[col].dtype == 'object':\n",
        "        df2[col] = df2[col].str.title()"
      ],
      "metadata": {
        "id": "ImhfUcDDGKFu"
      },
      "execution_count": 244,
      "outputs": []
    },
    {
      "cell_type": "markdown",
      "source": [],
      "metadata": {
        "id": "qCnXSw7wOpRC"
      }
    },
    {
      "cell_type": "code",
      "source": [
        "# Get the columns that have numeric data\n",
        "#without gst\n",
        "numeric_cols = df2.select_dtypes(include='number').columns.tolist()\n",
        "\n",
        "# Get the unique values in the 'gujarat' column\n",
        "gujarat_data = df2[df2['end_customer_state_new'].notna()]\n",
        "gujarat_vals = gujarat_data['end_customer_state_new'].unique()\n",
        "\n",
        "# Create a new DataFrame to store the results\n",
        "result_df = pd.DataFrame(columns=['country'] + numeric_cols)\n",
        "\n",
        "# Iterate over the unique values in the 'gujarat' column\n",
        "for val in gujarat_vals:\n",
        "    # Get the rows that have the current value in the 'gujarat' column\n",
        "    gujarat_rows = gujarat_data[gujarat_data['end_customer_state_new'] == val]\n",
        "\n",
        "    # Calculate the sum of numeric columns for the current value\n",
        "    sum_data = gujarat_rows[numeric_cols].sum(axis=0)\n",
        "\n",
        "    # Create a new row with the ID and sum data\n",
        "    new_row = pd.DataFrame([[val] + sum_data.tolist()], columns=['country'] + numeric_cols)\n",
        "\n",
        "    # Append the new row to the result DataFrame\n",
        "    result_df = result_df.append(new_row, ignore_index=True)\n",
        "\n",
        "# Write the result DataFrame to a new CSV file\n",
        "result_df.to_csv('output_file.csv', index=False)\n"
      ],
      "metadata": {
        "id": "M2_1NEN8CfK_",
        "colab": {
          "base_uri": "https://localhost:8080/"
        },
        "outputId": "7685dfb1-ef0a-4ccd-b74c-a7616323fe09"
      },
      "execution_count": 245,
      "outputs": [
        {
          "output_type": "stream",
          "name": "stderr",
          "text": [
            "<ipython-input-245-b5c87af30a37>:24: FutureWarning: The frame.append method is deprecated and will be removed from pandas in a future version. Use pandas.concat instead.\n",
            "  result_df = result_df.append(new_row, ignore_index=True)\n",
            "<ipython-input-245-b5c87af30a37>:24: FutureWarning: The frame.append method is deprecated and will be removed from pandas in a future version. Use pandas.concat instead.\n",
            "  result_df = result_df.append(new_row, ignore_index=True)\n",
            "<ipython-input-245-b5c87af30a37>:24: FutureWarning: The frame.append method is deprecated and will be removed from pandas in a future version. Use pandas.concat instead.\n",
            "  result_df = result_df.append(new_row, ignore_index=True)\n",
            "<ipython-input-245-b5c87af30a37>:24: FutureWarning: The frame.append method is deprecated and will be removed from pandas in a future version. Use pandas.concat instead.\n",
            "  result_df = result_df.append(new_row, ignore_index=True)\n",
            "<ipython-input-245-b5c87af30a37>:24: FutureWarning: The frame.append method is deprecated and will be removed from pandas in a future version. Use pandas.concat instead.\n",
            "  result_df = result_df.append(new_row, ignore_index=True)\n",
            "<ipython-input-245-b5c87af30a37>:24: FutureWarning: The frame.append method is deprecated and will be removed from pandas in a future version. Use pandas.concat instead.\n",
            "  result_df = result_df.append(new_row, ignore_index=True)\n",
            "<ipython-input-245-b5c87af30a37>:24: FutureWarning: The frame.append method is deprecated and will be removed from pandas in a future version. Use pandas.concat instead.\n",
            "  result_df = result_df.append(new_row, ignore_index=True)\n",
            "<ipython-input-245-b5c87af30a37>:24: FutureWarning: The frame.append method is deprecated and will be removed from pandas in a future version. Use pandas.concat instead.\n",
            "  result_df = result_df.append(new_row, ignore_index=True)\n",
            "<ipython-input-245-b5c87af30a37>:24: FutureWarning: The frame.append method is deprecated and will be removed from pandas in a future version. Use pandas.concat instead.\n",
            "  result_df = result_df.append(new_row, ignore_index=True)\n",
            "<ipython-input-245-b5c87af30a37>:24: FutureWarning: The frame.append method is deprecated and will be removed from pandas in a future version. Use pandas.concat instead.\n",
            "  result_df = result_df.append(new_row, ignore_index=True)\n",
            "<ipython-input-245-b5c87af30a37>:24: FutureWarning: The frame.append method is deprecated and will be removed from pandas in a future version. Use pandas.concat instead.\n",
            "  result_df = result_df.append(new_row, ignore_index=True)\n",
            "<ipython-input-245-b5c87af30a37>:24: FutureWarning: The frame.append method is deprecated and will be removed from pandas in a future version. Use pandas.concat instead.\n",
            "  result_df = result_df.append(new_row, ignore_index=True)\n",
            "<ipython-input-245-b5c87af30a37>:24: FutureWarning: The frame.append method is deprecated and will be removed from pandas in a future version. Use pandas.concat instead.\n",
            "  result_df = result_df.append(new_row, ignore_index=True)\n",
            "<ipython-input-245-b5c87af30a37>:24: FutureWarning: The frame.append method is deprecated and will be removed from pandas in a future version. Use pandas.concat instead.\n",
            "  result_df = result_df.append(new_row, ignore_index=True)\n",
            "<ipython-input-245-b5c87af30a37>:24: FutureWarning: The frame.append method is deprecated and will be removed from pandas in a future version. Use pandas.concat instead.\n",
            "  result_df = result_df.append(new_row, ignore_index=True)\n",
            "<ipython-input-245-b5c87af30a37>:24: FutureWarning: The frame.append method is deprecated and will be removed from pandas in a future version. Use pandas.concat instead.\n",
            "  result_df = result_df.append(new_row, ignore_index=True)\n",
            "<ipython-input-245-b5c87af30a37>:24: FutureWarning: The frame.append method is deprecated and will be removed from pandas in a future version. Use pandas.concat instead.\n",
            "  result_df = result_df.append(new_row, ignore_index=True)\n",
            "<ipython-input-245-b5c87af30a37>:24: FutureWarning: The frame.append method is deprecated and will be removed from pandas in a future version. Use pandas.concat instead.\n",
            "  result_df = result_df.append(new_row, ignore_index=True)\n",
            "<ipython-input-245-b5c87af30a37>:24: FutureWarning: The frame.append method is deprecated and will be removed from pandas in a future version. Use pandas.concat instead.\n",
            "  result_df = result_df.append(new_row, ignore_index=True)\n",
            "<ipython-input-245-b5c87af30a37>:24: FutureWarning: The frame.append method is deprecated and will be removed from pandas in a future version. Use pandas.concat instead.\n",
            "  result_df = result_df.append(new_row, ignore_index=True)\n",
            "<ipython-input-245-b5c87af30a37>:24: FutureWarning: The frame.append method is deprecated and will be removed from pandas in a future version. Use pandas.concat instead.\n",
            "  result_df = result_df.append(new_row, ignore_index=True)\n",
            "<ipython-input-245-b5c87af30a37>:24: FutureWarning: The frame.append method is deprecated and will be removed from pandas in a future version. Use pandas.concat instead.\n",
            "  result_df = result_df.append(new_row, ignore_index=True)\n",
            "<ipython-input-245-b5c87af30a37>:24: FutureWarning: The frame.append method is deprecated and will be removed from pandas in a future version. Use pandas.concat instead.\n",
            "  result_df = result_df.append(new_row, ignore_index=True)\n",
            "<ipython-input-245-b5c87af30a37>:24: FutureWarning: The frame.append method is deprecated and will be removed from pandas in a future version. Use pandas.concat instead.\n",
            "  result_df = result_df.append(new_row, ignore_index=True)\n",
            "<ipython-input-245-b5c87af30a37>:24: FutureWarning: The frame.append method is deprecated and will be removed from pandas in a future version. Use pandas.concat instead.\n",
            "  result_df = result_df.append(new_row, ignore_index=True)\n",
            "<ipython-input-245-b5c87af30a37>:24: FutureWarning: The frame.append method is deprecated and will be removed from pandas in a future version. Use pandas.concat instead.\n",
            "  result_df = result_df.append(new_row, ignore_index=True)\n",
            "<ipython-input-245-b5c87af30a37>:24: FutureWarning: The frame.append method is deprecated and will be removed from pandas in a future version. Use pandas.concat instead.\n",
            "  result_df = result_df.append(new_row, ignore_index=True)\n",
            "<ipython-input-245-b5c87af30a37>:24: FutureWarning: The frame.append method is deprecated and will be removed from pandas in a future version. Use pandas.concat instead.\n",
            "  result_df = result_df.append(new_row, ignore_index=True)\n"
          ]
        }
      ]
    },
    {
      "cell_type": "code",
      "source": [
        "# Get the columns that have numeric data\n",
        "numeric_cols = df2.select_dtypes(include='number').columns.tolist()\n",
        "\n",
        "# Get the unique values in the 'end_customer_state_new' column along with the 'gst_rate' column\n",
        "gujarat_data = df2[df2['end_customer_state_new'].notna()][['end_customer_state_new', 'gst_rate', 'hsn_code']].drop_duplicates()\n",
        "\n",
        "# Create a new DataFrame to store the results\n",
        "result_df = pd.DataFrame(columns=['country', 'gst_rate', 'hsn_code'] + numeric_cols)\n",
        "\n",
        "# Iterate over the unique values in the 'end_customer_state_new' column\n",
        "for val in gujarat_data['end_customer_state_new'].unique():\n",
        "    # Get the rows that have the current value in the 'end_customer_state_new' column\n",
        "    gujarat_rows = df2[df2['end_customer_state_new'] == val]\n",
        "\n",
        "    # Get the unique gst_rate and hsn_code for the current value\n",
        "    gst_rate = gujarat_data[gujarat_data['end_customer_state_new'] == val]['gst_rate'].iloc[0]\n",
        "    hsn_code = gujarat_data[gujarat_data['end_customer_state_new'] == val]['hsn_code'].iloc[0]\n",
        "\n",
        "    # Calculate the sum of numeric columns for the current value\n",
        "    sum_data = gujarat_rows[numeric_cols].sum(axis=0)\n",
        "\n",
        "    # Create a new row with the ID, gst_rate, hsn_code, and sum data\n",
        "    new_row = pd.DataFrame([[val, gst_rate, hsn_code] + sum_data.tolist()], columns=['country', 'gst_rate', 'hsn_code'] + numeric_cols)\n",
        "\n",
        "    # Append the new row to the result DataFrame\n",
        "    result_df = result_df.append(new_row, ignore_index=True)\n",
        "\n",
        "# Write the result DataFrame to a new CSV file\n",
        "result_df.to_csv('output_file.csv', index=False)\n"
      ],
      "metadata": {
        "id": "7qgYaCplszTp",
        "colab": {
          "base_uri": "https://localhost:8080/"
        },
        "outputId": "fe2d5525-6359-4bde-c69d-5497d6db5648"
      },
      "execution_count": 246,
      "outputs": [
        {
          "output_type": "stream",
          "name": "stderr",
          "text": [
            "<ipython-input-246-040ddbf18ead>:26: FutureWarning: The frame.append method is deprecated and will be removed from pandas in a future version. Use pandas.concat instead.\n",
            "  result_df = result_df.append(new_row, ignore_index=True)\n",
            "<ipython-input-246-040ddbf18ead>:26: FutureWarning: The frame.append method is deprecated and will be removed from pandas in a future version. Use pandas.concat instead.\n",
            "  result_df = result_df.append(new_row, ignore_index=True)\n",
            "<ipython-input-246-040ddbf18ead>:26: FutureWarning: The frame.append method is deprecated and will be removed from pandas in a future version. Use pandas.concat instead.\n",
            "  result_df = result_df.append(new_row, ignore_index=True)\n",
            "<ipython-input-246-040ddbf18ead>:26: FutureWarning: The frame.append method is deprecated and will be removed from pandas in a future version. Use pandas.concat instead.\n",
            "  result_df = result_df.append(new_row, ignore_index=True)\n",
            "<ipython-input-246-040ddbf18ead>:26: FutureWarning: The frame.append method is deprecated and will be removed from pandas in a future version. Use pandas.concat instead.\n",
            "  result_df = result_df.append(new_row, ignore_index=True)\n",
            "<ipython-input-246-040ddbf18ead>:26: FutureWarning: The frame.append method is deprecated and will be removed from pandas in a future version. Use pandas.concat instead.\n",
            "  result_df = result_df.append(new_row, ignore_index=True)\n",
            "<ipython-input-246-040ddbf18ead>:26: FutureWarning: The frame.append method is deprecated and will be removed from pandas in a future version. Use pandas.concat instead.\n",
            "  result_df = result_df.append(new_row, ignore_index=True)\n",
            "<ipython-input-246-040ddbf18ead>:26: FutureWarning: The frame.append method is deprecated and will be removed from pandas in a future version. Use pandas.concat instead.\n",
            "  result_df = result_df.append(new_row, ignore_index=True)\n",
            "<ipython-input-246-040ddbf18ead>:26: FutureWarning: The frame.append method is deprecated and will be removed from pandas in a future version. Use pandas.concat instead.\n",
            "  result_df = result_df.append(new_row, ignore_index=True)\n",
            "<ipython-input-246-040ddbf18ead>:26: FutureWarning: The frame.append method is deprecated and will be removed from pandas in a future version. Use pandas.concat instead.\n",
            "  result_df = result_df.append(new_row, ignore_index=True)\n",
            "<ipython-input-246-040ddbf18ead>:26: FutureWarning: The frame.append method is deprecated and will be removed from pandas in a future version. Use pandas.concat instead.\n",
            "  result_df = result_df.append(new_row, ignore_index=True)\n",
            "<ipython-input-246-040ddbf18ead>:26: FutureWarning: The frame.append method is deprecated and will be removed from pandas in a future version. Use pandas.concat instead.\n",
            "  result_df = result_df.append(new_row, ignore_index=True)\n",
            "<ipython-input-246-040ddbf18ead>:26: FutureWarning: The frame.append method is deprecated and will be removed from pandas in a future version. Use pandas.concat instead.\n",
            "  result_df = result_df.append(new_row, ignore_index=True)\n",
            "<ipython-input-246-040ddbf18ead>:26: FutureWarning: The frame.append method is deprecated and will be removed from pandas in a future version. Use pandas.concat instead.\n",
            "  result_df = result_df.append(new_row, ignore_index=True)\n",
            "<ipython-input-246-040ddbf18ead>:26: FutureWarning: The frame.append method is deprecated and will be removed from pandas in a future version. Use pandas.concat instead.\n",
            "  result_df = result_df.append(new_row, ignore_index=True)\n",
            "<ipython-input-246-040ddbf18ead>:26: FutureWarning: The frame.append method is deprecated and will be removed from pandas in a future version. Use pandas.concat instead.\n",
            "  result_df = result_df.append(new_row, ignore_index=True)\n",
            "<ipython-input-246-040ddbf18ead>:26: FutureWarning: The frame.append method is deprecated and will be removed from pandas in a future version. Use pandas.concat instead.\n",
            "  result_df = result_df.append(new_row, ignore_index=True)\n",
            "<ipython-input-246-040ddbf18ead>:26: FutureWarning: The frame.append method is deprecated and will be removed from pandas in a future version. Use pandas.concat instead.\n",
            "  result_df = result_df.append(new_row, ignore_index=True)\n",
            "<ipython-input-246-040ddbf18ead>:26: FutureWarning: The frame.append method is deprecated and will be removed from pandas in a future version. Use pandas.concat instead.\n",
            "  result_df = result_df.append(new_row, ignore_index=True)\n",
            "<ipython-input-246-040ddbf18ead>:26: FutureWarning: The frame.append method is deprecated and will be removed from pandas in a future version. Use pandas.concat instead.\n",
            "  result_df = result_df.append(new_row, ignore_index=True)\n",
            "<ipython-input-246-040ddbf18ead>:26: FutureWarning: The frame.append method is deprecated and will be removed from pandas in a future version. Use pandas.concat instead.\n",
            "  result_df = result_df.append(new_row, ignore_index=True)\n",
            "<ipython-input-246-040ddbf18ead>:26: FutureWarning: The frame.append method is deprecated and will be removed from pandas in a future version. Use pandas.concat instead.\n",
            "  result_df = result_df.append(new_row, ignore_index=True)\n",
            "<ipython-input-246-040ddbf18ead>:26: FutureWarning: The frame.append method is deprecated and will be removed from pandas in a future version. Use pandas.concat instead.\n",
            "  result_df = result_df.append(new_row, ignore_index=True)\n",
            "<ipython-input-246-040ddbf18ead>:26: FutureWarning: The frame.append method is deprecated and will be removed from pandas in a future version. Use pandas.concat instead.\n",
            "  result_df = result_df.append(new_row, ignore_index=True)\n",
            "<ipython-input-246-040ddbf18ead>:26: FutureWarning: The frame.append method is deprecated and will be removed from pandas in a future version. Use pandas.concat instead.\n",
            "  result_df = result_df.append(new_row, ignore_index=True)\n",
            "<ipython-input-246-040ddbf18ead>:26: FutureWarning: The frame.append method is deprecated and will be removed from pandas in a future version. Use pandas.concat instead.\n",
            "  result_df = result_df.append(new_row, ignore_index=True)\n",
            "<ipython-input-246-040ddbf18ead>:26: FutureWarning: The frame.append method is deprecated and will be removed from pandas in a future version. Use pandas.concat instead.\n",
            "  result_df = result_df.append(new_row, ignore_index=True)\n",
            "<ipython-input-246-040ddbf18ead>:26: FutureWarning: The frame.append method is deprecated and will be removed from pandas in a future version. Use pandas.concat instead.\n",
            "  result_df = result_df.append(new_row, ignore_index=True)\n"
          ]
        }
      ]
    },
    {
      "cell_type": "code",
      "source": [
        "mov = pd.read_csv('output_file.csv')"
      ],
      "metadata": {
        "id": "hmbn_0bmDJZF"
      },
      "execution_count": 247,
      "outputs": []
    },
    {
      "cell_type": "code",
      "source": [
        "mov.drop(columns=['pin','meesho_price','financial_year','gst_rate.1','taxable_shipping','shipping_gst_18_percent','adj','meesho_price_plus_shipping_charges_total','commission_gst','net_commission','order_num','supplier_id','reseller_pin','gst','shipping_charges_total','end_customer_pin','month_number'],inplace=True)"
      ],
      "metadata": {
        "id": "is9k-JMWMhHk"
      },
      "execution_count": 248,
      "outputs": []
    },
    {
      "cell_type": "code",
      "source": [
        "mov['tcs_taxable_amount'] = mov['tcs_taxable_amount'].round(2)"
      ],
      "metadata": {
        "id": "3NoLoYDyYI-u"
      },
      "execution_count": 249,
      "outputs": []
    },
    {
      "cell_type": "code",
      "source": [
        "# Define a function to calculate the IGST, CGST, and SGST values\n",
        "def calculate_tax(row):\n",
        "    if row['country'] == 'Gujarat':\n",
        "        igst = 0\n",
        "        cgst = row['gst_amount'] / 2\n",
        "        sgst = row['gst_amount'] / 2\n",
        "    else:\n",
        "        igst = row['gst_amount']\n",
        "        cgst = 0\n",
        "        sgst = 0\n",
        "    return pd.Series({'igst': igst, 'cgst': cgst, 'sgst': sgst})\n",
        "\n",
        "# Apply the function to each row of the DataFrame to calculate the tax values\n",
        "tax_df = mov.apply(calculate_tax, axis=1)\n",
        "\n",
        "# Add the new columns to the original DataFrame\n",
        "df = pd.concat([mov, tax_df], axis=1)\n",
        "\n",
        "# Write the result DataFrame to a new CSV file\n",
        "df.to_csv('output_file2.csv', index=False)\n"
      ],
      "metadata": {
        "id": "1Y1BxXw6dE8B"
      },
      "execution_count": 250,
      "outputs": []
    },
    {
      "cell_type": "code",
      "source": [
        "sor = pd.read_csv('output_file2.csv')"
      ],
      "metadata": {
        "id": "YEnNUjEeiSTh"
      },
      "execution_count": 251,
      "outputs": []
    },
    {
      "cell_type": "code",
      "source": [
        "sor['Total_Transaction_Value'] = sor['tcs_taxable_amount'] + sor['gst_amount']"
      ],
      "metadata": {
        "id": "ZuGvI7T8lfTn"
      },
      "execution_count": 252,
      "outputs": []
    },
    {
      "cell_type": "code",
      "source": [
        "ko = pd.read_csv('state_conversion.csv')\n"
      ],
      "metadata": {
        "id": "lVv3zFZO2JAi"
      },
      "execution_count": 253,
      "outputs": []
    },
    {
      "cell_type": "code",
      "source": [
        "#ko = pd.read_csv('state_conversion.csv')\n",
        "\n",
        "\n",
        "state_dict = {\n",
        "    \"35\": \"Andaman & Nicobar Islands\",\n",
        "    \"37\": \"Andhra Pradesh\",\n",
        "    \"12\": \"Arunachal Pradesh\",\n",
        "    \"18\": \"Assam\",\n",
        "    \"10\": \"Bihar\",\n",
        "    \"04\": \"Chandigarh\",\n",
        "    \"22\": \"Chhattisgarh\",\n",
        "    \"26\": \"Dadra & Nagar Haveli & Daman & Diu\",\n",
        "    \"07\": \"Delhi\",\n",
        "    \"30\": \"Goa\",\n",
        "    \"24\": \"Gujarat\",\n",
        "    \"06\": \"Haryana\",\n",
        "    \"02\": \"Himachal Pradesh\",\n",
        "    \"01\": \"Jammu & Kashmir\",\n",
        "    \"20\": \"Jharkhand\",\n",
        "    \"29\": \"Karnataka\",\n",
        "    \"32\": \"Kerala\",\n",
        "    \"31\": \"Lakshdweep\",\n",
        "    \"23\": \"Madhya Pradesh\",\n",
        "    \"27\": \"Maharashtra\",\n",
        "    \"14\": \"Manipur\",\n",
        "    \"17\": \"Meghalaya\",\n",
        "    \"15\": \"Mizoram\",\n",
        "    \"13\": \"Nagaland\",\n",
        "    \"21\": \"Odisha\",\n",
        "    \"34\": \"Pondicherry\",\n",
        "    \"03\": \"Punjab\",\n",
        "    \"08\": \"Rajasthan\",\n",
        "    \"11\": \"Sikkim\",\n",
        "    \"33\": \"Tamil Nadu\",\n",
        "    \"36\": \"Telengana\",\n",
        "    \"16\": \"Tripura\",\n",
        "    \"09\": \"Uttar Pradesh\",\n",
        "    \"05\": \"Uttarakhand\",\n",
        "    \"19\": \"West Bengal\",\n",
        "    \"98\": \"Other Territory\",\n",
        "    \"38\": \"Ladakh\"\n",
        "}\n",
        "# Add a new column to the DataFrame with the state names\n",
        "sor[\"State Name As Per GSTR-1\"] = sor[\"country\"].map(state_dict)\n"
      ],
      "metadata": {
        "id": "p4N3mzSDr1kd"
      },
      "execution_count": 254,
      "outputs": []
    },
    {
      "cell_type": "code",
      "source": [
        "\n",
        "\n",
        "# Perform the outer left join\n",
        "sor = pd.merge(sor, ko, on='State Name As Per GSTR-1', how='outer')\n",
        "\n",
        "# Create a dictionary mapping values from 'As Per Meesho' to 'State Name As Per GSTR-1'\n",
        "state_dict = dict(zip(ko['As Per Meesho'], ko['State Name As Per GSTR-1']))\n",
        "\n",
        "# Modify the 'State Name As Per GSTR-1' column in the 'sor' DataFrame\n",
        "sor['State Name As Per GSTR-1'] = sor['country'].str.upper().map(state_dict)\n",
        "\n",
        "# Group by 'country' and aggregate 'State Name As Per GSTR-1' column as a list\n",
        "grouped = sor.groupby('country')['State Name As Per GSTR-1'].apply(list)\n",
        "\n",
        "# Write the grouped DataFrame to a CSV file\n",
        "grouped.to_csv('output.csv', index=False)\n"
      ],
      "metadata": {
        "colab": {
          "base_uri": "https://localhost:8080/"
        },
        "id": "o2kI30Chokp7",
        "outputId": "aa3694aa-6de5-4597-9cef-330cec3fdfb6"
      },
      "execution_count": 255,
      "outputs": [
        {
          "output_type": "stream",
          "name": "stderr",
          "text": [
            "<ipython-input-255-5c1e5d287226>:2: FutureWarning: In a future version, the Index constructor will not infer numeric dtypes when passed object-dtype sequences (matching Series behavior)\n",
            "  sor = pd.merge(sor, ko, on='State Name As Per GSTR-1', how='outer')\n"
          ]
        }
      ]
    },
    {
      "cell_type": "code",
      "source": [
        "# Perform an outer left join on the 'ID' column\n",
        "#sor = pd.merge(sor, ko, on='State Name As Per GSTR-1', how='outer')\n",
        "#state_dict = dict(zip(ko['As Per Meesho'], ko['State Name As Per GSTR-1']))\n",
        "\n",
        "#sor['State Name As Per GSTR-1'] = sor['country'].str.upper()\n",
        "\n",
        "#sor['State Name As Per GSTR-1'] = sor['State Name As Per GSTR-1'].map(state_dict)\n",
        "#sor['State Name As Per GSTR-1'] = ko['State Name As Per GSTR-1'].map(state_dict)\n",
        "# Write the merged dataframe to a CSV file\n",
        "\n",
        "#sor.to_csv('output.csv', index=False)\n",
        "\n"
      ],
      "metadata": {
        "id": "08NMa53Fw5_3"
      },
      "execution_count": 256,
      "outputs": []
    },
    {
      "cell_type": "code",
      "source": [
        "sor = sor.drop(columns=['hsn_code.1', 'As Per Meesho'])"
      ],
      "metadata": {
        "id": "jO2Sq9mNDcTE"
      },
      "execution_count": 257,
      "outputs": []
    },
    {
      "cell_type": "code",
      "source": [
        "new_column_order = [\n",
        "    'country',\n",
        "    'State Name As Per GSTR-1',\n",
        "    'hsn_code',\n",
        "    'quantity',\n",
        "    'tcs_taxable_amount',\n",
        "    'igst',\n",
        "    'cgst',\n",
        "    'sgst',\n",
        "    'Total_Transaction_Value'\n",
        "]\n",
        "\n",
        "# Reorder the columns\n",
        "sor = sor.reindex(columns=new_column_order)\n",
        "\n",
        "# Write the DataFrame to a new CSV file\n",
        "sor.to_csv('my_data_reordered.csv', index=False)"
      ],
      "metadata": {
        "id": "BMezT_KzCNma"
      },
      "execution_count": 258,
      "outputs": []
    }
  ]
}